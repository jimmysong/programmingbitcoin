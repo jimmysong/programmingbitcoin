{
 "cells": [
  {
   "cell_type": "markdown",
   "metadata": {},
   "source": [
    "### Exercise 1\n",
    "\n",
    "#### Determine a ScriptSig that will satisfy this scriptPubKey:\n",
    "```\n",
    "767695935687\n",
    "```\n",
    "\n",
    "* 56 = OP_6\n",
    "* 76 = OP_DUP\n",
    "* 87 = OP_EQUAL\n",
    "* 93 = OP_ADD\n",
    "* 95 = OP_MUL\n",
    "\n",
    "#### Hint: use the Script.parse method"
   ]
  },
  {
   "cell_type": "code",
   "execution_count": null,
   "metadata": {},
   "outputs": [],
   "source": [
    "# Exercise 1\n",
    "\n",
    "from script import Script\n",
    "\n",
    "hex_script = '767695935687'\n",
    "\n",
    "# bytes.fromhex the script\n",
    "# parse the script"
   ]
  },
  {
   "attachments": {},
   "cell_type": "markdown",
   "metadata": {},
   "source": [
    "### Exercise 2\n",
    "\n",
    "#### Determine what this scriptPubKey is doing:\n",
    "```\n",
    "6e879169a77ca787\n",
    "```\n",
    "\n",
    "* 69 = OP_VERIFY\n",
    "* 6e = OP_2DUP\n",
    "* 7c = OP_SWAP\n",
    "* 87 = OP_EQUAL\n",
    "* 91 = OP_NOT\n",
    "* a7 = OP_SHA1\n",
    "\n",
    "\n",
    "#### Hint: Use the Script.parse method and look up what various OP codes do here: \n",
    "#### https://en.bitcoin.it/wiki/Script"
   ]
  },
  {
   "cell_type": "code",
   "execution_count": null,
   "metadata": {},
   "outputs": [],
   "source": [
    "# Exercise 2\n",
    "\n",
    "from script import Script\n",
    "\n",
    "hex_script = '6e879169a77ca787'\n",
    "\n",
    "# bytes.fromhex the script\n",
    "# parse the script"
   ]
  }
 ],
 "metadata": {
  "kernelspec": {
   "display_name": "Python 3",
   "language": "python",
   "name": "python3"
  },
  "language_info": {
   "codemirror_mode": {
    "name": "ipython",
    "version": 3
   },
   "file_extension": ".py",
   "mimetype": "text/x-python",
   "name": "python",
   "nbconvert_exporter": "python",
   "pygments_lexer": "ipython3",
   "version": "3.6.5"
  }
 },
 "nbformat": 4,
 "nbformat_minor": 2
}
